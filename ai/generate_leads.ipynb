{
 "cells": [
  {
   "cell_type": "code",
   "execution_count": 1,
   "metadata": {},
   "outputs": [],
   "source": [
    "import pandas as pd\n",
    "import numpy as np\n",
    "import os\n",
    "from dotenv import load_dotenv\n",
    "from sqlalchemy import create_engine\n",
    "import openai\n",
    "import time\n",
    "import logging\n",
    "import json\n",
    "from datetime import datetime"
   ]
  },
  {
   "cell_type": "code",
   "execution_count": 2,
   "metadata": {},
   "outputs": [],
   "source": [
    "load_dotenv()\n",
    "MYSQL_URI = os.getenv(\"MYSQL_URI\")\n",
    "OPENAI_API_KEY = os.getenv(\"OPENAI_API_KEY\")\n",
    "engine = create_engine(MYSQL_URI)"
   ]
  },
  {
   "cell_type": "code",
   "execution_count": 3,
   "metadata": {},
   "outputs": [],
   "source": [
    "client = openai.OpenAI()\n",
    "model  = 'gpt-4o-mini'\n",
    "client_id = 100000"
   ]
  },
  {
   "cell_type": "code",
   "execution_count": 4,
   "metadata": {},
   "outputs": [],
   "source": [
    "def get_accounts(client_id):\n",
    "    accounts = pd.read_sql(con=engine, sql=f'SELECT * FROM Accounts WHERE ClientID={client_id}')\n",
    "    accounts.drop(columns=['ClientID', 'CreatedBy'])\n",
    "    return accounts"
   ]
  },
  {
   "cell_type": "code",
   "execution_count": 5,
   "metadata": {},
   "outputs": [],
   "source": [
    "def get_leads(client_id):\n",
    "    leads = pd.read_sql(con=engine, sql=f'SELECT * FROM Leads WHERE ClientID={client_id}')\n",
    "    accounts = pd.read_sql(con=engine, sql=f'SELECT AccountID, CompanyName FROM Accounts WHERE ClientID={client_id}')\n",
    "    leads = pd.merge(leads, accounts, on='AccountID', how='left')\n",
    "    leads = leads.drop(columns=['ClientID', 'CreatedBy'])\n",
    "    return leads"
   ]
  },
  {
   "cell_type": "code",
   "execution_count": 6,
   "metadata": {},
   "outputs": [],
   "source": [
    "leads = get_leads(client_id)\n",
    "accounts = get_accounts(client_id)"
   ]
  },
  {
   "cell_type": "code",
   "execution_count": 7,
   "metadata": {},
   "outputs": [],
   "source": [
    "# filepath = f'static/files/{client_id}'\n",
    "\n",
    "# os.makedirs(filepath, exist_ok=True)\n",
    "\n",
    "# leads.to_json(path_or_buf=f'static/files/{client_id}/leads.json', orient='records')\n",
    "# accounts.to_json(path_or_buf=f'static/files/{client_id}/accounts.json', orient='records')"
   ]
  },
  {
   "cell_type": "code",
   "execution_count": 8,
   "metadata": {},
   "outputs": [],
   "source": [
    "assistant_id = 'asst_MkWTjEDWaQ8N4RQ7TRj9RyEl'\n",
    "\n",
    "assistant = client.beta.assistants.retrieve(assistant_id=assistant_id)"
   ]
  },
  {
   "cell_type": "code",
   "execution_count": null,
   "metadata": {},
   "outputs": [],
   "source": []
  },
  {
   "cell_type": "code",
   "execution_count": 9,
   "metadata": {},
   "outputs": [],
   "source": [
    "# vector_store = client.beta.vector_stores.create(name=\"Tables\")"
   ]
  },
  {
   "cell_type": "code",
   "execution_count": 10,
   "metadata": {},
   "outputs": [],
   "source": [
    "# file_stream = open(f'{filepath}/leads.json', 'rb')\n",
    "# file_batch = client.beta.vector_stores.file_batches.upload_and_poll(\n",
    "#     vector_store_id=vector_store.id,\n",
    "#     files=[file_stream]\n",
    "# )"
   ]
  },
  {
   "cell_type": "code",
   "execution_count": 11,
   "metadata": {},
   "outputs": [],
   "source": [
    "# file_batch.status"
   ]
  },
  {
   "cell_type": "code",
   "execution_count": 12,
   "metadata": {},
   "outputs": [],
   "source": [
    "# for file in list:\n",
    "#     client.beta.vector_stores.files.delete(\n",
    "#         vector_store_id=vector_store_id,\n",
    "#         file_id=file)"
   ]
  },
  {
   "cell_type": "code",
   "execution_count": 13,
   "metadata": {},
   "outputs": [],
   "source": [
    "instructions = 'You are a CRM assistant. Your tasks are: \\\n",
    "            1.\tAnalyze leads based on their data to provide insights into their potential value. Provide ordered lists of strong leads and reasoning for why these could be potential clients.\\\n",
    "                Provide as much information for each lead as possible. You should not reveal that you are a chatbot in any way. Include at least: lead position, company, and email (if email)'\n",
    "            # 2.\tReview interactions with leads to generate personalized sales scripts tailored to their needs and preferences.'"
   ]
  },
  {
   "cell_type": "code",
   "execution_count": 14,
   "metadata": {},
   "outputs": [],
   "source": [
    "# assistant = client.beta.assistants.update(\n",
    "#     assistant_id=assistant_id,\n",
    "#     model=model,\n",
    "#     instructions=instructions,\n",
    "#     tools=[{'type': 'file_search'}],\n",
    "#     # tools=[\n",
    "#     #     {\n",
    "#     #     'type': 'function',\n",
    "#     #     'function': {\n",
    "#     #         'name': 'get_leads',\n",
    "#     #         'description': 'Retrieve list (DataFrame) of leads from database.',\n",
    "#     #         'parameters': {\n",
    "#     #             'type': 'object',\n",
    "#     #             'properties': {\n",
    "#     #                 'client_id':{\n",
    "#     #                     'type': 'integer',\n",
    "#     #                     'description': 'ClientID of the assistant\\'s user. Use to filter database (SQL WHERE clause).',\n",
    "#     #                 }\n",
    "#     #             },\n",
    "#     #             'required': ['client_id'],\n",
    "#     #         },\n",
    "#     #        }       \n",
    "#     #     },\n",
    "#     # ],\n",
    "#     tool_resources={\"file_search\": {\"vector_store_ids\": [vector_store.id]}},\n",
    "# )"
   ]
  },
  {
   "cell_type": "code",
   "execution_count": 15,
   "metadata": {},
   "outputs": [],
   "source": [
    "\n",
    "# assistant = client.beta.assistants.create(\n",
    "#     name='CRM Assistant',\n",
    "#     instructions='You are a CRM assistant. Your tasks are: \\\n",
    "#         1.\tAnalyze leads based on their data to provide insights into their potential value. Provide ordered lists of strong leads and reasoning for why these could be potential clients.\\\n",
    "#         2.\tReview interactions with leads to generate personalized sales scripts tailored to their needs and preferences.',\n",
    "#     model=model,\n",
    "#     tools=[\n",
    "#         # {\n",
    "#         # 'type': 'function',\n",
    "#         # 'function': {\n",
    "#         #     'name': 'get_accounts',\n",
    "#         #     'description': 'Retrieve list (DataFrame) of accounts from database.',\n",
    "#         #     'parameters': {\n",
    "#         #         'type': 'object',\n",
    "#         #         'properties': {\n",
    "#         #             'client_id':{\n",
    "#         #                 'type': 'integer',\n",
    "#         #                 'description': 'ClientID of the assistant\\'s user. Use to filter database (SQL WHERE clause).',\n",
    "#         #             }\n",
    "#         #         },\n",
    "#         #         'required': ['client_id'],\n",
    "#         #     },\n",
    "#         #    }       \n",
    "#         # },\n",
    "#         {\n",
    "#         'type': 'function',\n",
    "#         'function': {\n",
    "#             'name': 'get_leads',\n",
    "#             'description': 'Retrieve list (DataFrame) of leads from database. Each lead is associated with a certain account.',\n",
    "#             'parameters': {\n",
    "#                 'type': 'object',\n",
    "#                 'properties': {\n",
    "#                     'client_id':{\n",
    "#                         'type': 'integer',\n",
    "#                         'description': 'ClientID of the assistant\\'s user. Use to filter database (SQL WHERE clause).',\n",
    "#                     }\n",
    "#                 },\n",
    "#                 'required': ['client_id'],\n",
    "#             },\n",
    "#            }       \n",
    "#         },\n",
    "#     ]\n",
    "#     # file_ids=\n",
    "# )"
   ]
  },
  {
   "cell_type": "code",
   "execution_count": 16,
   "metadata": {},
   "outputs": [],
   "source": [
    "thread = client.beta.threads.create()"
   ]
  },
  {
   "cell_type": "code",
   "execution_count": 17,
   "metadata": {},
   "outputs": [],
   "source": [
    "# message = client.beta.threads.messages.create(\n",
    "#     thread_id=thread.id,\n",
    "#     role='user',\n",
    "#     content='How many accounts are there?'\n",
    "# )\n"
   ]
  },
  {
   "cell_type": "code",
   "execution_count": 18,
   "metadata": {},
   "outputs": [],
   "source": [
    "# # run: the users client id is 100000\n",
    "# run = client.beta.threads.runs.create_and_poll(\n",
    "#     thread_id=thread.id,\n",
    "#     assistant_id=assistant.id,\n",
    "#     instructions='Search the database and answer the users questions with the relevant information. Users ClientID is 100000'\n",
    "# )"
   ]
  },
  {
   "cell_type": "code",
   "execution_count": 19,
   "metadata": {},
   "outputs": [],
   "source": [
    "\n",
    "def call_function(required_actions, run):\n",
    "    tool_outputs = []\n",
    "    for action in required_actions['tool_calls']:\n",
    "        function_name = action['function']['name']\n",
    "        arguments = json.loads(action['function']['arguments'])\n",
    "        \n",
    "        # if function_name == 'get_accounts':\n",
    "        #     output = get_accounts(client_id=arguments['client_id'])\n",
    "        #     output = output.to_csv(index=True)\n",
    "        #     print(output)\n",
    "            \n",
    "        if function_name == 'get_leads':\n",
    "            output = get_leads(client_id=arguments['client_id'])\n",
    "            # output.to_csv(f'static/files/{client_id}.txt', index=False)\n",
    "            output = output.to_csv(index=False)\n",
    "            print(output)\n",
    "            \n",
    "        tool_outputs.append({'tool_call_id': action['id'],\n",
    "                             'output': output})\n",
    "        \n",
    "    print('Submitting output back to the assistant.')  \n",
    "    client.beta.threads.runs.submit_tool_outputs(\n",
    "        thread_id=thread.id,\n",
    "        run_id=run,\n",
    "        tool_outputs=tool_outputs\n",
    "    )"
   ]
  },
  {
   "cell_type": "code",
   "execution_count": 20,
   "metadata": {},
   "outputs": [],
   "source": [
    "def add_message(content):\n",
    "        if thread:\n",
    "            client.beta.threads.messages.create(\n",
    "                thread_id=thread.id,\n",
    "                role='user',\n",
    "                content=content\n",
    "            )"
   ]
  },
  {
   "cell_type": "code",
   "execution_count": 21,
   "metadata": {},
   "outputs": [],
   "source": [
    "def run_assistant():\n",
    "    run = client.beta.threads.runs.create(\n",
    "    thread_id=thread.id,\n",
    "    assistant_id=assistant.id,\n",
    "    instructions='Provide an ordered list of relevant potential clients and reason why. Provide as much information for each lead as possible.\\\n",
    "        You should not reveal that you are a chatbot in any way.')\n",
    "    return run"
   ]
  },
  {
   "cell_type": "code",
   "execution_count": 22,
   "metadata": {},
   "outputs": [],
   "source": [
    "def process_messages():\n",
    "        if thread:\n",
    "            messages = client.beta.threads.messages.list(\n",
    "                thread_id=thread.id\n",
    "            )\n",
    "\n",
    "            last_message = messages.data[0]\n",
    "            role = last_message.role\n",
    "            response = last_message.content[0].text.value\n",
    "            \n",
    "            return f'{role.capitalize()}:\\n{response}'"
   ]
  },
  {
   "cell_type": "code",
   "execution_count": 23,
   "metadata": {},
   "outputs": [],
   "source": [
    "\n",
    "def generate(prompt):\n",
    "    if thread:\n",
    "        add_message(prompt)\n",
    "        run = run_assistant()\n",
    "        if run:\n",
    "            while True:\n",
    "                time.sleep(1)\n",
    "                run_status = client.beta.threads.runs.retrieve(\n",
    "                    thread_id=thread.id,\n",
    "                    run_id=run.id\n",
    "                )\n",
    "                print(run_status.status)\n",
    "                if run_status.status == 'completed':\n",
    "                    elapsed_time = run_status.completed_at - run_status.created_at\n",
    "                    formatted_elapsed_time = time.strftime(\n",
    "                        \"%H:%M:%S\", time.gmtime(elapsed_time)\n",
    "                    )\n",
    "                    response = process_messages()\n",
    "                    print(response)\n",
    "                    return f\"Run completed in {formatted_elapsed_time}\\n{response}\"\n",
    "                elif run_status.status == 'requires_action':\n",
    "                    print('Function calling in progress.')\n",
    "                    call_function(\n",
    "                        required_actions = run_status.required_action.submit_tool_outputs.model_dump(),\n",
    "                        run=run.id \n",
    "                    )\n",
    "                elif run_status.status == 'failed':\n",
    "                    break\n",
    "    return 0"
   ]
  },
  {
   "cell_type": "code",
   "execution_count": 24,
   "metadata": {},
   "outputs": [
    {
     "name": "stdout",
     "output_type": "stream",
     "text": [
      "in_progress\n",
      "in_progress\n",
      "in_progress\n",
      "in_progress\n",
      "completed\n",
      "Assistant:\n",
      "Here are potential leads from Tumi:\n",
      "\n",
      "1. **Bob Weingartner**\n",
      "   - **Position**: Vice President Information Technology\n",
      "   - **Email**: bob.weingartner@samsonite.com\n",
      "   - **Company**: Tumi\n",
      "   - **Note**: As the Vice President of IT, Bob is a decision-maker in technology investment and infrastructure, making him a key contact for any technology services or products that Tumi may require【4:1†source】.\n",
      "\n",
      "2. **Kchitij Kumar**\n",
      "   - **Position**: Head of Technology & Data Analytics\n",
      "   - **Email**: kchitij.kumar@tumi.com\n",
      "   - **Company**: Tumi\n",
      "   - **Note**: Kchitij oversees technology and data analytics, indicating he would be crucial for discussions around data management solutions or technology enhancements within Tumi【4:1†source】.\n",
      "\n",
      "Both of these contacts within Tumi are likely to be important for any proposals related to IT solutions, technology analytics, and infrastructure improvements.\n"
     ]
    }
   ],
   "source": [
    "x = generate('are there any leads from tumi?')"
   ]
  },
  {
   "cell_type": "code",
   "execution_count": 25,
   "metadata": {},
   "outputs": [
    {
     "name": "stdout",
     "output_type": "stream",
     "text": [
      "Run completed in 00:00:06\n",
      "Assistant:\n",
      "Here are potential leads from Tumi:\n",
      "\n",
      "1. **Bob Weingartner**\n",
      "   - **Position**: Vice President Information Technology\n",
      "   - **Email**: bob.weingartner@samsonite.com\n",
      "   - **Company**: Tumi\n",
      "   - **Note**: As the Vice President of IT, Bob is a decision-maker in technology investment and infrastructure, making him a key contact for any technology services or products that Tumi may require【4:1†source】.\n",
      "\n",
      "2. **Kchitij Kumar**\n",
      "   - **Position**: Head of Technology & Data Analytics\n",
      "   - **Email**: kchitij.kumar@tumi.com\n",
      "   - **Company**: Tumi\n",
      "   - **Note**: Kchitij oversees technology and data analytics, indicating he would be crucial for discussions around data management solutions or technology enhancements within Tumi【4:1†source】.\n",
      "\n",
      "Both of these contacts within Tumi are likely to be important for any proposals related to IT solutions, technology analytics, and infrastructure improvements.\n"
     ]
    }
   ],
   "source": [
    "print(x)"
   ]
  }
 ],
 "metadata": {
  "kernelspec": {
   "display_name": "Python 3",
   "language": "python",
   "name": "python3"
  },
  "language_info": {
   "codemirror_mode": {
    "name": "ipython",
    "version": 3
   },
   "file_extension": ".py",
   "mimetype": "text/x-python",
   "name": "python",
   "nbconvert_exporter": "python",
   "pygments_lexer": "ipython3",
   "version": "3.12.0"
  }
 },
 "nbformat": 4,
 "nbformat_minor": 2
}
