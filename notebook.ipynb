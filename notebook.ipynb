{
 "cells": [
  {
   "cell_type": "code",
   "execution_count": 1,
   "metadata": {},
   "outputs": [],
   "source": [
    "import pandas as pd\n",
    "import numpy as np\n",
    "import os\n",
    "from dotenv import load_dotenv\n",
    "from sqlalchemy import create_engine"
   ]
  },
  {
   "cell_type": "code",
   "execution_count": 2,
   "metadata": {},
   "outputs": [
    {
     "data": {
      "text/plain": [
       "True"
      ]
     },
     "execution_count": 2,
     "metadata": {},
     "output_type": "execute_result"
    }
   ],
   "source": [
    "load_dotenv()"
   ]
  },
  {
   "cell_type": "code",
   "execution_count": 3,
   "metadata": {},
   "outputs": [],
   "source": [
    "MYSQL_URI = os.getenv(\"MYSQL_URI\")\n",
    "OPENAI_API_KEY = os.getenv(\"OPENAI_API_KEY\")"
   ]
  },
  {
   "cell_type": "code",
   "execution_count": 4,
   "metadata": {},
   "outputs": [],
   "source": [
    "engine = create_engine(MYSQL_URI)"
   ]
  },
  {
   "cell_type": "code",
   "execution_count": 5,
   "metadata": {},
   "outputs": [],
   "source": [
    "leads = pd.read_sql(\"SELECT * FROM Leads\", engine)"
   ]
  },
  {
   "cell_type": "code",
   "execution_count": 6,
   "metadata": {},
   "outputs": [
    {
     "data": {
      "text/html": [
       "<div>\n",
       "<style scoped>\n",
       "    .dataframe tbody tr th:only-of-type {\n",
       "        vertical-align: middle;\n",
       "    }\n",
       "\n",
       "    .dataframe tbody tr th {\n",
       "        vertical-align: top;\n",
       "    }\n",
       "\n",
       "    .dataframe thead th {\n",
       "        text-align: right;\n",
       "    }\n",
       "</style>\n",
       "<table border=\"1\" class=\"dataframe\">\n",
       "  <thead>\n",
       "    <tr style=\"text-align: right;\">\n",
       "      <th></th>\n",
       "      <th>LeadID</th>\n",
       "      <th>AccountID</th>\n",
       "      <th>ClientID</th>\n",
       "      <th>Position</th>\n",
       "      <th>FirstName</th>\n",
       "      <th>LastName</th>\n",
       "      <th>Email</th>\n",
       "      <th>CompanyName</th>\n",
       "      <th>CreatedBy</th>\n",
       "      <th>DateCreated</th>\n",
       "      <th>Owner</th>\n",
       "      <th>Status</th>\n",
       "      <th>FollowUp</th>\n",
       "    </tr>\n",
       "  </thead>\n",
       "  <tbody>\n",
       "    <tr>\n",
       "      <th>165</th>\n",
       "      <td>11650</td>\n",
       "      <td>5180</td>\n",
       "      <td>100000</td>\n",
       "      <td>Director of Technical Services</td>\n",
       "      <td></td>\n",
       "      <td></td>\n",
       "      <td>None</td>\n",
       "      <td>Drury Hotels</td>\n",
       "      <td>haris.saif@erp-center.com</td>\n",
       "      <td>2024-09-14</td>\n",
       "      <td>None</td>\n",
       "      <td>Open</td>\n",
       "      <td>0</td>\n",
       "    </tr>\n",
       "    <tr>\n",
       "      <th>175</th>\n",
       "      <td>11750</td>\n",
       "      <td>5670</td>\n",
       "      <td>100000</td>\n",
       "      <td>Director - Information Technology</td>\n",
       "      <td></td>\n",
       "      <td></td>\n",
       "      <td>None</td>\n",
       "      <td>Oakley</td>\n",
       "      <td>haris.saif@erp-center.com</td>\n",
       "      <td>2024-09-14</td>\n",
       "      <td>None</td>\n",
       "      <td>Open</td>\n",
       "      <td>0</td>\n",
       "    </tr>\n",
       "    <tr>\n",
       "      <th>257</th>\n",
       "      <td>12570</td>\n",
       "      <td>7390</td>\n",
       "      <td>100000</td>\n",
       "      <td>Director Of Technical Services</td>\n",
       "      <td></td>\n",
       "      <td></td>\n",
       "      <td>None</td>\n",
       "      <td>KARL STORZ United States</td>\n",
       "      <td>haris.saif@erp-center.com</td>\n",
       "      <td>2024-09-14</td>\n",
       "      <td>None</td>\n",
       "      <td>Open</td>\n",
       "      <td>0</td>\n",
       "    </tr>\n",
       "    <tr>\n",
       "      <th>305</th>\n",
       "      <td>13050</td>\n",
       "      <td>8010</td>\n",
       "      <td>100000</td>\n",
       "      <td>Director of IT</td>\n",
       "      <td></td>\n",
       "      <td></td>\n",
       "      <td>None</td>\n",
       "      <td>Composites One</td>\n",
       "      <td>haris.saif@erp-center.com</td>\n",
       "      <td>2024-09-14</td>\n",
       "      <td>None</td>\n",
       "      <td>Open</td>\n",
       "      <td>0</td>\n",
       "    </tr>\n",
       "    <tr>\n",
       "      <th>589</th>\n",
       "      <td>15890</td>\n",
       "      <td>13200</td>\n",
       "      <td>100000</td>\n",
       "      <td>Group Chief Technology Officer</td>\n",
       "      <td>Hugues</td>\n",
       "      <td>Crepin</td>\n",
       "      <td>None</td>\n",
       "      <td>Curium Pharma</td>\n",
       "      <td>haris.saif@erp-center.com</td>\n",
       "      <td>2024-09-14</td>\n",
       "      <td>None</td>\n",
       "      <td>Open</td>\n",
       "      <td>0</td>\n",
       "    </tr>\n",
       "    <tr>\n",
       "      <th>...</th>\n",
       "      <td>...</td>\n",
       "      <td>...</td>\n",
       "      <td>...</td>\n",
       "      <td>...</td>\n",
       "      <td>...</td>\n",
       "      <td>...</td>\n",
       "      <td>...</td>\n",
       "      <td>...</td>\n",
       "      <td>...</td>\n",
       "      <td>...</td>\n",
       "      <td>...</td>\n",
       "      <td>...</td>\n",
       "      <td>...</td>\n",
       "    </tr>\n",
       "    <tr>\n",
       "      <th>1534</th>\n",
       "      <td>25340</td>\n",
       "      <td>13170</td>\n",
       "      <td>100000</td>\n",
       "      <td>Technical Director</td>\n",
       "      <td>Pirkle</td>\n",
       "      <td>Mark</td>\n",
       "      <td>None</td>\n",
       "      <td>Voith Hydro</td>\n",
       "      <td>haris.saif@erp-center.com</td>\n",
       "      <td>2024-09-14</td>\n",
       "      <td>None</td>\n",
       "      <td>Open</td>\n",
       "      <td>0</td>\n",
       "    </tr>\n",
       "    <tr>\n",
       "      <th>1535</th>\n",
       "      <td>25350</td>\n",
       "      <td>13170</td>\n",
       "      <td>100000</td>\n",
       "      <td>Technical manager</td>\n",
       "      <td>Gunnar</td>\n",
       "      <td>Bakken</td>\n",
       "      <td>None</td>\n",
       "      <td>Voith Hydro</td>\n",
       "      <td>haris.saif@erp-center.com</td>\n",
       "      <td>2024-09-14</td>\n",
       "      <td>None</td>\n",
       "      <td>Open</td>\n",
       "      <td>0</td>\n",
       "    </tr>\n",
       "    <tr>\n",
       "      <th>1536</th>\n",
       "      <td>25360</td>\n",
       "      <td>13180</td>\n",
       "      <td>100000</td>\n",
       "      <td>Head of Solutions</td>\n",
       "      <td>Kamil</td>\n",
       "      <td>K</td>\n",
       "      <td>None</td>\n",
       "      <td>TRILUX</td>\n",
       "      <td>haris.saif@erp-center.com</td>\n",
       "      <td>2024-09-14</td>\n",
       "      <td>None</td>\n",
       "      <td>Open</td>\n",
       "      <td>0</td>\n",
       "    </tr>\n",
       "    <tr>\n",
       "      <th>1537</th>\n",
       "      <td>25370</td>\n",
       "      <td>13180</td>\n",
       "      <td>100000</td>\n",
       "      <td>Leiter Group IT</td>\n",
       "      <td>Stefan</td>\n",
       "      <td>Magerstedt</td>\n",
       "      <td>None</td>\n",
       "      <td>TRILUX</td>\n",
       "      <td>haris.saif@erp-center.com</td>\n",
       "      <td>2024-09-14</td>\n",
       "      <td>None</td>\n",
       "      <td>Open</td>\n",
       "      <td>0</td>\n",
       "    </tr>\n",
       "    <tr>\n",
       "      <th>1538</th>\n",
       "      <td>25380</td>\n",
       "      <td>13180</td>\n",
       "      <td>100000</td>\n",
       "      <td>Chief Technology Officer</td>\n",
       "      <td>Sebastian</td>\n",
       "      <td>Traegner</td>\n",
       "      <td>None</td>\n",
       "      <td>TRILUX</td>\n",
       "      <td>haris.saif@erp-center.com</td>\n",
       "      <td>2024-09-14</td>\n",
       "      <td>None</td>\n",
       "      <td>Open</td>\n",
       "      <td>0</td>\n",
       "    </tr>\n",
       "  </tbody>\n",
       "</table>\n",
       "<p>953 rows × 13 columns</p>\n",
       "</div>"
      ],
      "text/plain": [
       "      LeadID  AccountID  ClientID                           Position  \\\n",
       "165    11650       5180    100000     Director of Technical Services   \n",
       "175    11750       5670    100000  Director - Information Technology   \n",
       "257    12570       7390    100000     Director Of Technical Services   \n",
       "305    13050       8010    100000                     Director of IT   \n",
       "589    15890      13200    100000     Group Chief Technology Officer   \n",
       "...      ...        ...       ...                                ...   \n",
       "1534   25340      13170    100000                 Technical Director   \n",
       "1535   25350      13170    100000                  Technical manager   \n",
       "1536   25360      13180    100000                  Head of Solutions   \n",
       "1537   25370      13180    100000                    Leiter Group IT   \n",
       "1538   25380      13180    100000           Chief Technology Officer   \n",
       "\n",
       "      FirstName    LastName Email               CompanyName  \\\n",
       "165                          None              Drury Hotels   \n",
       "175                          None                    Oakley   \n",
       "257                          None  KARL STORZ United States   \n",
       "305                          None            Composites One   \n",
       "589      Hugues      Crepin  None             Curium Pharma   \n",
       "...         ...         ...   ...                       ...   \n",
       "1534     Pirkle        Mark  None               Voith Hydro   \n",
       "1535     Gunnar      Bakken  None               Voith Hydro   \n",
       "1536      Kamil           K  None                    TRILUX   \n",
       "1537     Stefan  Magerstedt  None                    TRILUX   \n",
       "1538  Sebastian    Traegner  None                    TRILUX   \n",
       "\n",
       "                      CreatedBy DateCreated Owner Status  FollowUp  \n",
       "165   haris.saif@erp-center.com  2024-09-14  None   Open         0  \n",
       "175   haris.saif@erp-center.com  2024-09-14  None   Open         0  \n",
       "257   haris.saif@erp-center.com  2024-09-14  None   Open         0  \n",
       "305   haris.saif@erp-center.com  2024-09-14  None   Open         0  \n",
       "589   haris.saif@erp-center.com  2024-09-14  None   Open         0  \n",
       "...                         ...         ...   ...    ...       ...  \n",
       "1534  haris.saif@erp-center.com  2024-09-14  None   Open         0  \n",
       "1535  haris.saif@erp-center.com  2024-09-14  None   Open         0  \n",
       "1536  haris.saif@erp-center.com  2024-09-14  None   Open         0  \n",
       "1537  haris.saif@erp-center.com  2024-09-14  None   Open         0  \n",
       "1538  haris.saif@erp-center.com  2024-09-14  None   Open         0  \n",
       "\n",
       "[953 rows x 13 columns]"
      ]
     },
     "execution_count": 6,
     "metadata": {},
     "output_type": "execute_result"
    }
   ],
   "source": [
    "leads[leads['Email'].isna()]"
   ]
  },
  {
   "cell_type": "code",
   "execution_count": 7,
   "metadata": {},
   "outputs": [],
   "source": [
    "leads = pd.read_csv('/Users/harissaif/Downloads/ERP/Files/leads.csv')"
   ]
  },
  {
   "cell_type": "code",
   "execution_count": 12,
   "metadata": {},
   "outputs": [
    {
     "data": {
      "text/plain": [
       "973"
      ]
     },
     "execution_count": 12,
     "metadata": {},
     "output_type": "execute_result"
    }
   ],
   "source": [
    "leads.shape[0] - leads[leads['Email'].notna()].shape[0]"
   ]
  },
  {
   "cell_type": "code",
   "execution_count": 13,
   "metadata": {},
   "outputs": [
    {
     "data": {
      "text/plain": [
       "1564"
      ]
     },
     "execution_count": 13,
     "metadata": {},
     "output_type": "execute_result"
    }
   ],
   "source": [
    "leads.shape[0]"
   ]
  }
 ],
 "metadata": {
  "kernelspec": {
   "display_name": "Python 3",
   "language": "python",
   "name": "python3"
  },
  "language_info": {
   "codemirror_mode": {
    "name": "ipython",
    "version": 3
   },
   "file_extension": ".py",
   "mimetype": "text/x-python",
   "name": "python",
   "nbconvert_exporter": "python",
   "pygments_lexer": "ipython3",
   "version": "3.12.0"
  }
 },
 "nbformat": 4,
 "nbformat_minor": 2
}
